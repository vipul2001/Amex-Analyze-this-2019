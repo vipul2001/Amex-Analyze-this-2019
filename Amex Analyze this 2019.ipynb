{
  "nbformat": 4,
  "nbformat_minor": 0,
  "metadata": {
    "colab": {
      "name": "code_3.ipynb",
      "provenance": [],
      "collapsed_sections": []
    },
    "kernelspec": {
      "name": "python3",
      "display_name": "Python 3"
    },
    "accelerator": "GPU"
  },
  "cells": [
    {
      "cell_type": "code",
      "metadata": {
        "id": "__wom78net0H",
        "colab_type": "code",
        "colab": {}
      },
      "source": [
        "# Initial imports\n",
        "import pandas as pd\n",
        "import matplotlib.pyplot as plt\n",
        "%matplotlib inline\n",
        "import seaborn as sns\n",
        "import numpy as np\n",
        "import random\n",
        "from sklearn.decomposition import PCA\n",
        "\n",
        "import datetime\n",
        "import warnings\n",
        "warnings.filterwarnings('ignore')\n",
        "\n",
        "from scipy.stats import boxcox\n",
        "\n",
        "random.seed(3)\n",
        "\n",
        "# Imports for better visualization\n",
        "from matplotlib import rcParams\n",
        "#colorbrewer2 Dark2 qualitative color table\n",
        "\n",
        "             \n",
        "\n",
        "rcParams['figure.figsize'] = (8, 3)\n",
        "rcParams['figure.dpi'] = 150\n",
        "rcParams['lines.linewidth'] = 2\n",
        "rcParams['font.size'] = 14\n",
        "rcParams['patch.edgecolor'] = 'white'\n",
        "\n",
        "rcParams['font.family'] = 'StixGeneral'\n",
        "rcParams['axes.grid'] = True\n",
        "rcParams['axes.facecolor'] = '#eeeeee'"
      ],
      "execution_count": 0,
      "outputs": []
    },
    {
      "cell_type": "code",
      "metadata": {
        "id": "oKZgJ33VfK1G",
        "colab_type": "code",
        "colab": {}
      },
      "source": [
        "train=pd.read_csv(\"development_dataset.csv\")\n",
        "test=pd.read_csv(\"leaderboard_dataset.csv\")"
      ],
      "execution_count": 0,
      "outputs": []
    },
    {
      "cell_type": "code",
      "metadata": {
        "id": "jYlGHcYvhPZS",
        "colab_type": "code",
        "outputId": "9d5a7ade-c5c8-4f19-b0ac-176b6bf64b14",
        "colab": {
          "base_uri": "https://localhost:8080/",
          "height": 374
        }
      },
      "source": [
        "test.isnull().sum()"
      ],
      "execution_count": 0,
      "outputs": [
        {
          "output_type": "execute_result",
          "data": {
            "text/plain": [
              "VAR1        0\n",
              "VAR2      267\n",
              "VAR3      937\n",
              "VAR4     3686\n",
              "VAR5        0\n",
              "VAR6     1058\n",
              "VAR7      215\n",
              "VAR8      215\n",
              "VAR9     4701\n",
              "VAR10    1348\n",
              "VAR11    2231\n",
              "VAR12    3201\n",
              "VAR13    2493\n",
              "VAR14       0\n",
              "VAR15    2359\n",
              "VAR16     229\n",
              "VAR17    6543\n",
              "VAR18       0\n",
              "VAR19       0\n",
              "VAR20       0\n",
              "dtype: int64"
            ]
          },
          "metadata": {
            "tags": []
          },
          "execution_count": 3
        }
      ]
    },
    {
      "cell_type": "code",
      "metadata": {
        "id": "LR584q2FfwYp",
        "colab_type": "code",
        "outputId": "117726c9-2ff2-4618-d17a-e6277f9fb5ca",
        "colab": {
          "base_uri": "https://localhost:8080/",
          "height": 34
        }
      },
      "source": [
        "train.shape"
      ],
      "execution_count": 0,
      "outputs": [
        {
          "output_type": "execute_result",
          "data": {
            "text/plain": [
              "(34000, 21)"
            ]
          },
          "metadata": {
            "tags": []
          },
          "execution_count": 4
        }
      ]
    },
    {
      "cell_type": "code",
      "metadata": {
        "id": "34889hQKg5NU",
        "colab_type": "code",
        "outputId": "04f714a2-a80a-45f8-e20e-6f6792f44445",
        "colab": {
          "base_uri": "https://localhost:8080/",
          "height": 34
        }
      },
      "source": [
        "test.shape"
      ],
      "execution_count": 0,
      "outputs": [
        {
          "output_type": "execute_result",
          "data": {
            "text/plain": [
              "(10000, 20)"
            ]
          },
          "metadata": {
            "tags": []
          },
          "execution_count": 5
        }
      ]
    },
    {
      "cell_type": "code",
      "metadata": {
        "id": "8lulqodSgJ77",
        "colab_type": "code",
        "outputId": "f8ade763-6edd-4853-f710-172c3b8f86ed",
        "colab": {
          "base_uri": "https://localhost:8080/",
          "height": 224
        }
      },
      "source": [
        "train.head()"
      ],
      "execution_count": 0,
      "outputs": [
        {
          "output_type": "execute_result",
          "data": {
            "text/html": [
              "<div>\n",
              "<style scoped>\n",
              "    .dataframe tbody tr th:only-of-type {\n",
              "        vertical-align: middle;\n",
              "    }\n",
              "\n",
              "    .dataframe tbody tr th {\n",
              "        vertical-align: top;\n",
              "    }\n",
              "\n",
              "    .dataframe thead th {\n",
              "        text-align: right;\n",
              "    }\n",
              "</style>\n",
              "<table border=\"1\" class=\"dataframe\">\n",
              "  <thead>\n",
              "    <tr style=\"text-align: right;\">\n",
              "      <th></th>\n",
              "      <th>VAR1</th>\n",
              "      <th>VAR2</th>\n",
              "      <th>VAR3</th>\n",
              "      <th>VAR4</th>\n",
              "      <th>VAR5</th>\n",
              "      <th>VAR6</th>\n",
              "      <th>VAR7</th>\n",
              "      <th>VAR8</th>\n",
              "      <th>VAR9</th>\n",
              "      <th>VAR10</th>\n",
              "      <th>VAR11</th>\n",
              "      <th>VAR12</th>\n",
              "      <th>VAR13</th>\n",
              "      <th>VAR14</th>\n",
              "      <th>VAR15</th>\n",
              "      <th>VAR16</th>\n",
              "      <th>VAR17</th>\n",
              "      <th>VAR18</th>\n",
              "      <th>VAR19</th>\n",
              "      <th>VAR20</th>\n",
              "      <th>VAR21</th>\n",
              "    </tr>\n",
              "  </thead>\n",
              "  <tbody>\n",
              "    <tr>\n",
              "      <th>0</th>\n",
              "      <td>1</td>\n",
              "      <td>828.235294</td>\n",
              "      <td>0.138889</td>\n",
              "      <td>321.428571</td>\n",
              "      <td>625.911006</td>\n",
              "      <td>1.818182</td>\n",
              "      <td>1.081550</td>\n",
              "      <td>198.113469</td>\n",
              "      <td>NaN</td>\n",
              "      <td>58.632548</td>\n",
              "      <td>0.279273</td>\n",
              "      <td>100.083403</td>\n",
              "      <td>1.0</td>\n",
              "      <td>1</td>\n",
              "      <td>1.0</td>\n",
              "      <td>1.540594</td>\n",
              "      <td>NaN</td>\n",
              "      <td>1</td>\n",
              "      <td>0</td>\n",
              "      <td>100.104991</td>\n",
              "      <td>Low</td>\n",
              "    </tr>\n",
              "    <tr>\n",
              "      <th>1</th>\n",
              "      <td>2</td>\n",
              "      <td>911.764706</td>\n",
              "      <td>0.027778</td>\n",
              "      <td>NaN</td>\n",
              "      <td>611.574748</td>\n",
              "      <td>8.181818</td>\n",
              "      <td>1.344479</td>\n",
              "      <td>198.600020</td>\n",
              "      <td>22.086661</td>\n",
              "      <td>NaN</td>\n",
              "      <td>NaN</td>\n",
              "      <td>15.012510</td>\n",
              "      <td>NaN</td>\n",
              "      <td>1</td>\n",
              "      <td>NaN</td>\n",
              "      <td>1.614613</td>\n",
              "      <td>NaN</td>\n",
              "      <td>0</td>\n",
              "      <td>1</td>\n",
              "      <td>146.654045</td>\n",
              "      <td>High</td>\n",
              "    </tr>\n",
              "    <tr>\n",
              "      <th>2</th>\n",
              "      <td>3</td>\n",
              "      <td>962.352941</td>\n",
              "      <td>0.833333</td>\n",
              "      <td>35.714286</td>\n",
              "      <td>615.825381</td>\n",
              "      <td>8.181818</td>\n",
              "      <td>0.720796</td>\n",
              "      <td>197.267767</td>\n",
              "      <td>NaN</td>\n",
              "      <td>58.632548</td>\n",
              "      <td>0.453212</td>\n",
              "      <td>210.175146</td>\n",
              "      <td>10.0</td>\n",
              "      <td>1</td>\n",
              "      <td>10.0</td>\n",
              "      <td>1.044599</td>\n",
              "      <td>NaN</td>\n",
              "      <td>0</td>\n",
              "      <td>0</td>\n",
              "      <td>98.249570</td>\n",
              "      <td>Medium</td>\n",
              "    </tr>\n",
              "    <tr>\n",
              "      <th>3</th>\n",
              "      <td>4</td>\n",
              "      <td>892.941177</td>\n",
              "      <td>NaN</td>\n",
              "      <td>NaN</td>\n",
              "      <td>638.076431</td>\n",
              "      <td>9.090909</td>\n",
              "      <td>0.820218</td>\n",
              "      <td>197.355744</td>\n",
              "      <td>4.363431</td>\n",
              "      <td>58.632548</td>\n",
              "      <td>NaN</td>\n",
              "      <td>NaN</td>\n",
              "      <td>NaN</td>\n",
              "      <td>1</td>\n",
              "      <td>NaN</td>\n",
              "      <td>1.145729</td>\n",
              "      <td>NaN</td>\n",
              "      <td>1</td>\n",
              "      <td>0</td>\n",
              "      <td>140.862306</td>\n",
              "      <td>Low</td>\n",
              "    </tr>\n",
              "    <tr>\n",
              "      <th>4</th>\n",
              "      <td>5</td>\n",
              "      <td>914.117647</td>\n",
              "      <td>0.083333</td>\n",
              "      <td>NaN</td>\n",
              "      <td>626.514988</td>\n",
              "      <td>5.181818</td>\n",
              "      <td>1.372928</td>\n",
              "      <td>198.790477</td>\n",
              "      <td>85.938202</td>\n",
              "      <td>58.632548</td>\n",
              "      <td>NaN</td>\n",
              "      <td>210.175146</td>\n",
              "      <td>NaN</td>\n",
              "      <td>.</td>\n",
              "      <td>NaN</td>\n",
              "      <td>1.558341</td>\n",
              "      <td>NaN</td>\n",
              "      <td>1</td>\n",
              "      <td>0</td>\n",
              "      <td>101.268503</td>\n",
              "      <td>High</td>\n",
              "    </tr>\n",
              "  </tbody>\n",
              "</table>\n",
              "</div>"
            ],
            "text/plain": [
              "   VAR1        VAR2      VAR3        VAR4  ...  VAR18  VAR19       VAR20   VAR21\n",
              "0     1  828.235294  0.138889  321.428571  ...      1      0  100.104991     Low\n",
              "1     2  911.764706  0.027778         NaN  ...      0      1  146.654045    High\n",
              "2     3  962.352941  0.833333   35.714286  ...      0      0   98.249570  Medium\n",
              "3     4  892.941177       NaN         NaN  ...      1      0  140.862306     Low\n",
              "4     5  914.117647  0.083333         NaN  ...      1      0  101.268503    High\n",
              "\n",
              "[5 rows x 21 columns]"
            ]
          },
          "metadata": {
            "tags": []
          },
          "execution_count": 6
        }
      ]
    },
    {
      "cell_type": "code",
      "metadata": {
        "id": "i4CrA1n7gMWN",
        "colab_type": "code",
        "colab": {}
      },
      "source": [
        "df=train.append(test, ignore_index=True, sort=False)"
      ],
      "execution_count": 0,
      "outputs": []
    },
    {
      "cell_type": "code",
      "metadata": {
        "id": "be6UEJW1hBPY",
        "colab_type": "code",
        "colab": {}
      },
      "source": [
        ""
      ],
      "execution_count": 0,
      "outputs": []
    },
    {
      "cell_type": "code",
      "metadata": {
        "id": "5-KU7h0yhTMJ",
        "colab_type": "code",
        "colab": {}
      },
      "source": [
        ""
      ],
      "execution_count": 0,
      "outputs": []
    },
    {
      "cell_type": "code",
      "metadata": {
        "id": "Q08vfGvihqnV",
        "colab_type": "code",
        "outputId": "aa58c191-cb40-46f9-af96-ba62f71c77e4",
        "colab": {
          "base_uri": "https://localhost:8080/",
          "height": 627
        }
      },
      "source": [
        "train.corr()"
      ],
      "execution_count": 0,
      "outputs": [
        {
          "output_type": "execute_result",
          "data": {
            "text/html": [
              "<div>\n",
              "<style scoped>\n",
              "    .dataframe tbody tr th:only-of-type {\n",
              "        vertical-align: middle;\n",
              "    }\n",
              "\n",
              "    .dataframe tbody tr th {\n",
              "        vertical-align: top;\n",
              "    }\n",
              "\n",
              "    .dataframe thead th {\n",
              "        text-align: right;\n",
              "    }\n",
              "</style>\n",
              "<table border=\"1\" class=\"dataframe\">\n",
              "  <thead>\n",
              "    <tr style=\"text-align: right;\">\n",
              "      <th></th>\n",
              "      <th>VAR2</th>\n",
              "      <th>VAR3</th>\n",
              "      <th>VAR4</th>\n",
              "      <th>VAR5</th>\n",
              "      <th>VAR6</th>\n",
              "      <th>VAR7</th>\n",
              "      <th>VAR8</th>\n",
              "      <th>VAR9</th>\n",
              "      <th>VAR10</th>\n",
              "      <th>VAR11</th>\n",
              "      <th>VAR12</th>\n",
              "      <th>VAR13</th>\n",
              "      <th>VAR14</th>\n",
              "      <th>VAR15</th>\n",
              "      <th>VAR16</th>\n",
              "      <th>VAR18</th>\n",
              "      <th>VAR19</th>\n",
              "      <th>VAR20</th>\n",
              "    </tr>\n",
              "  </thead>\n",
              "  <tbody>\n",
              "    <tr>\n",
              "      <th>VAR2</th>\n",
              "      <td>1.000000</td>\n",
              "      <td>0.001972</td>\n",
              "      <td>-0.520364</td>\n",
              "      <td>-0.198825</td>\n",
              "      <td>0.024563</td>\n",
              "      <td>-0.027956</td>\n",
              "      <td>-0.049848</td>\n",
              "      <td>-0.005974</td>\n",
              "      <td>0.044978</td>\n",
              "      <td>-0.170889</td>\n",
              "      <td>0.145806</td>\n",
              "      <td>0.131859</td>\n",
              "      <td>-0.036751</td>\n",
              "      <td>0.100009</td>\n",
              "      <td>-0.024563</td>\n",
              "      <td>0.062919</td>\n",
              "      <td>-0.064833</td>\n",
              "      <td>-0.103261</td>\n",
              "    </tr>\n",
              "    <tr>\n",
              "      <th>VAR3</th>\n",
              "      <td>0.001972</td>\n",
              "      <td>1.000000</td>\n",
              "      <td>-0.006435</td>\n",
              "      <td>0.007076</td>\n",
              "      <td>0.026434</td>\n",
              "      <td>0.018932</td>\n",
              "      <td>0.025569</td>\n",
              "      <td>0.005590</td>\n",
              "      <td>-0.000101</td>\n",
              "      <td>0.008638</td>\n",
              "      <td>0.077644</td>\n",
              "      <td>0.017939</td>\n",
              "      <td>0.005851</td>\n",
              "      <td>0.016350</td>\n",
              "      <td>0.016033</td>\n",
              "      <td>0.013064</td>\n",
              "      <td>0.004490</td>\n",
              "      <td>0.018308</td>\n",
              "    </tr>\n",
              "    <tr>\n",
              "      <th>VAR4</th>\n",
              "      <td>-0.520364</td>\n",
              "      <td>-0.006435</td>\n",
              "      <td>1.000000</td>\n",
              "      <td>0.209725</td>\n",
              "      <td>-0.026012</td>\n",
              "      <td>0.016341</td>\n",
              "      <td>0.063607</td>\n",
              "      <td>0.014895</td>\n",
              "      <td>-0.033471</td>\n",
              "      <td>0.199767</td>\n",
              "      <td>-0.100896</td>\n",
              "      <td>-0.079159</td>\n",
              "      <td>0.054763</td>\n",
              "      <td>-0.042410</td>\n",
              "      <td>0.015877</td>\n",
              "      <td>-0.037142</td>\n",
              "      <td>0.115342</td>\n",
              "      <td>0.050940</td>\n",
              "    </tr>\n",
              "    <tr>\n",
              "      <th>VAR5</th>\n",
              "      <td>-0.198825</td>\n",
              "      <td>0.007076</td>\n",
              "      <td>0.209725</td>\n",
              "      <td>1.000000</td>\n",
              "      <td>0.028062</td>\n",
              "      <td>0.075235</td>\n",
              "      <td>0.202366</td>\n",
              "      <td>0.155101</td>\n",
              "      <td>0.141205</td>\n",
              "      <td>0.081221</td>\n",
              "      <td>-0.054978</td>\n",
              "      <td>-0.050700</td>\n",
              "      <td>0.032132</td>\n",
              "      <td>-0.036232</td>\n",
              "      <td>0.066837</td>\n",
              "      <td>0.034296</td>\n",
              "      <td>-0.130859</td>\n",
              "      <td>0.229492</td>\n",
              "    </tr>\n",
              "    <tr>\n",
              "      <th>VAR6</th>\n",
              "      <td>0.024563</td>\n",
              "      <td>0.026434</td>\n",
              "      <td>-0.026012</td>\n",
              "      <td>0.028062</td>\n",
              "      <td>1.000000</td>\n",
              "      <td>0.092884</td>\n",
              "      <td>0.129908</td>\n",
              "      <td>-0.019285</td>\n",
              "      <td>0.136964</td>\n",
              "      <td>0.052466</td>\n",
              "      <td>0.032335</td>\n",
              "      <td>0.132180</td>\n",
              "      <td>0.043548</td>\n",
              "      <td>0.119386</td>\n",
              "      <td>0.073232</td>\n",
              "      <td>0.049143</td>\n",
              "      <td>0.083432</td>\n",
              "      <td>0.073296</td>\n",
              "    </tr>\n",
              "    <tr>\n",
              "      <th>VAR7</th>\n",
              "      <td>-0.027956</td>\n",
              "      <td>0.018932</td>\n",
              "      <td>0.016341</td>\n",
              "      <td>0.075235</td>\n",
              "      <td>0.092884</td>\n",
              "      <td>1.000000</td>\n",
              "      <td>0.701303</td>\n",
              "      <td>-0.034977</td>\n",
              "      <td>-0.036209</td>\n",
              "      <td>0.065382</td>\n",
              "      <td>-0.005929</td>\n",
              "      <td>0.067227</td>\n",
              "      <td>0.138318</td>\n",
              "      <td>0.065214</td>\n",
              "      <td>0.924227</td>\n",
              "      <td>0.024797</td>\n",
              "      <td>0.115910</td>\n",
              "      <td>0.113370</td>\n",
              "    </tr>\n",
              "    <tr>\n",
              "      <th>VAR8</th>\n",
              "      <td>-0.049848</td>\n",
              "      <td>0.025569</td>\n",
              "      <td>0.063607</td>\n",
              "      <td>0.202366</td>\n",
              "      <td>0.129908</td>\n",
              "      <td>0.701303</td>\n",
              "      <td>1.000000</td>\n",
              "      <td>-0.026960</td>\n",
              "      <td>-0.068156</td>\n",
              "      <td>0.131838</td>\n",
              "      <td>0.001510</td>\n",
              "      <td>0.103310</td>\n",
              "      <td>0.179458</td>\n",
              "      <td>0.104720</td>\n",
              "      <td>0.492394</td>\n",
              "      <td>0.041071</td>\n",
              "      <td>0.166366</td>\n",
              "      <td>0.168116</td>\n",
              "    </tr>\n",
              "    <tr>\n",
              "      <th>VAR9</th>\n",
              "      <td>-0.005974</td>\n",
              "      <td>0.005590</td>\n",
              "      <td>0.014895</td>\n",
              "      <td>0.155101</td>\n",
              "      <td>-0.019285</td>\n",
              "      <td>-0.034977</td>\n",
              "      <td>-0.026960</td>\n",
              "      <td>1.000000</td>\n",
              "      <td>0.131755</td>\n",
              "      <td>-0.011615</td>\n",
              "      <td>0.015459</td>\n",
              "      <td>0.010221</td>\n",
              "      <td>-0.035686</td>\n",
              "      <td>0.005955</td>\n",
              "      <td>-0.027507</td>\n",
              "      <td>0.007195</td>\n",
              "      <td>-0.218252</td>\n",
              "      <td>-0.031862</td>\n",
              "    </tr>\n",
              "    <tr>\n",
              "      <th>VAR10</th>\n",
              "      <td>0.044978</td>\n",
              "      <td>-0.000101</td>\n",
              "      <td>-0.033471</td>\n",
              "      <td>0.141205</td>\n",
              "      <td>0.136964</td>\n",
              "      <td>-0.036209</td>\n",
              "      <td>-0.068156</td>\n",
              "      <td>0.131755</td>\n",
              "      <td>1.000000</td>\n",
              "      <td>-0.051732</td>\n",
              "      <td>0.031744</td>\n",
              "      <td>-0.019574</td>\n",
              "      <td>-0.073064</td>\n",
              "      <td>-0.027619</td>\n",
              "      <td>-0.027206</td>\n",
              "      <td>0.018898</td>\n",
              "      <td>-0.248395</td>\n",
              "      <td>-0.021122</td>\n",
              "    </tr>\n",
              "    <tr>\n",
              "      <th>VAR11</th>\n",
              "      <td>-0.170889</td>\n",
              "      <td>0.008638</td>\n",
              "      <td>0.199767</td>\n",
              "      <td>0.081221</td>\n",
              "      <td>0.052466</td>\n",
              "      <td>0.065382</td>\n",
              "      <td>0.131838</td>\n",
              "      <td>-0.011615</td>\n",
              "      <td>-0.051732</td>\n",
              "      <td>1.000000</td>\n",
              "      <td>0.029827</td>\n",
              "      <td>0.491042</td>\n",
              "      <td>0.044698</td>\n",
              "      <td>0.639427</td>\n",
              "      <td>0.047821</td>\n",
              "      <td>0.026608</td>\n",
              "      <td>0.079181</td>\n",
              "      <td>0.076796</td>\n",
              "    </tr>\n",
              "    <tr>\n",
              "      <th>VAR12</th>\n",
              "      <td>0.145806</td>\n",
              "      <td>0.077644</td>\n",
              "      <td>-0.100896</td>\n",
              "      <td>-0.054978</td>\n",
              "      <td>0.032335</td>\n",
              "      <td>-0.005929</td>\n",
              "      <td>0.001510</td>\n",
              "      <td>0.015459</td>\n",
              "      <td>0.031744</td>\n",
              "      <td>0.029827</td>\n",
              "      <td>1.000000</td>\n",
              "      <td>0.096458</td>\n",
              "      <td>-0.020685</td>\n",
              "      <td>0.094280</td>\n",
              "      <td>-0.007881</td>\n",
              "      <td>0.076527</td>\n",
              "      <td>0.034649</td>\n",
              "      <td>-0.069696</td>\n",
              "    </tr>\n",
              "    <tr>\n",
              "      <th>VAR13</th>\n",
              "      <td>0.131859</td>\n",
              "      <td>0.017939</td>\n",
              "      <td>-0.079159</td>\n",
              "      <td>-0.050700</td>\n",
              "      <td>0.132180</td>\n",
              "      <td>0.067227</td>\n",
              "      <td>0.103310</td>\n",
              "      <td>0.010221</td>\n",
              "      <td>-0.019574</td>\n",
              "      <td>0.491042</td>\n",
              "      <td>0.096458</td>\n",
              "      <td>1.000000</td>\n",
              "      <td>0.035876</td>\n",
              "      <td>0.886041</td>\n",
              "      <td>0.051289</td>\n",
              "      <td>0.058514</td>\n",
              "      <td>0.072172</td>\n",
              "      <td>0.029699</td>\n",
              "    </tr>\n",
              "    <tr>\n",
              "      <th>VAR14</th>\n",
              "      <td>-0.036751</td>\n",
              "      <td>0.005851</td>\n",
              "      <td>0.054763</td>\n",
              "      <td>0.032132</td>\n",
              "      <td>0.043548</td>\n",
              "      <td>0.138318</td>\n",
              "      <td>0.179458</td>\n",
              "      <td>-0.035686</td>\n",
              "      <td>-0.073064</td>\n",
              "      <td>0.044698</td>\n",
              "      <td>-0.020685</td>\n",
              "      <td>0.035876</td>\n",
              "      <td>1.000000</td>\n",
              "      <td>0.039746</td>\n",
              "      <td>0.117496</td>\n",
              "      <td>-0.017118</td>\n",
              "      <td>0.299530</td>\n",
              "      <td>0.013695</td>\n",
              "    </tr>\n",
              "    <tr>\n",
              "      <th>VAR15</th>\n",
              "      <td>0.100009</td>\n",
              "      <td>0.016350</td>\n",
              "      <td>-0.042410</td>\n",
              "      <td>-0.036232</td>\n",
              "      <td>0.119386</td>\n",
              "      <td>0.065214</td>\n",
              "      <td>0.104720</td>\n",
              "      <td>0.005955</td>\n",
              "      <td>-0.027619</td>\n",
              "      <td>0.639427</td>\n",
              "      <td>0.094280</td>\n",
              "      <td>0.886041</td>\n",
              "      <td>0.039746</td>\n",
              "      <td>1.000000</td>\n",
              "      <td>0.049600</td>\n",
              "      <td>0.055073</td>\n",
              "      <td>0.077516</td>\n",
              "      <td>0.033875</td>\n",
              "    </tr>\n",
              "    <tr>\n",
              "      <th>VAR16</th>\n",
              "      <td>-0.024563</td>\n",
              "      <td>0.016033</td>\n",
              "      <td>0.015877</td>\n",
              "      <td>0.066837</td>\n",
              "      <td>0.073232</td>\n",
              "      <td>0.924227</td>\n",
              "      <td>0.492394</td>\n",
              "      <td>-0.027507</td>\n",
              "      <td>-0.027206</td>\n",
              "      <td>0.047821</td>\n",
              "      <td>-0.007881</td>\n",
              "      <td>0.051289</td>\n",
              "      <td>0.117496</td>\n",
              "      <td>0.049600</td>\n",
              "      <td>1.000000</td>\n",
              "      <td>0.020018</td>\n",
              "      <td>0.098064</td>\n",
              "      <td>0.096646</td>\n",
              "    </tr>\n",
              "    <tr>\n",
              "      <th>VAR18</th>\n",
              "      <td>0.062919</td>\n",
              "      <td>0.013064</td>\n",
              "      <td>-0.037142</td>\n",
              "      <td>0.034296</td>\n",
              "      <td>0.049143</td>\n",
              "      <td>0.024797</td>\n",
              "      <td>0.041071</td>\n",
              "      <td>0.007195</td>\n",
              "      <td>0.018898</td>\n",
              "      <td>0.026608</td>\n",
              "      <td>0.076527</td>\n",
              "      <td>0.058514</td>\n",
              "      <td>-0.017118</td>\n",
              "      <td>0.055073</td>\n",
              "      <td>0.020018</td>\n",
              "      <td>1.000000</td>\n",
              "      <td>0.028553</td>\n",
              "      <td>0.098638</td>\n",
              "    </tr>\n",
              "    <tr>\n",
              "      <th>VAR19</th>\n",
              "      <td>-0.064833</td>\n",
              "      <td>0.004490</td>\n",
              "      <td>0.115342</td>\n",
              "      <td>-0.130859</td>\n",
              "      <td>0.083432</td>\n",
              "      <td>0.115910</td>\n",
              "      <td>0.166366</td>\n",
              "      <td>-0.218252</td>\n",
              "      <td>-0.248395</td>\n",
              "      <td>0.079181</td>\n",
              "      <td>0.034649</td>\n",
              "      <td>0.072172</td>\n",
              "      <td>0.299530</td>\n",
              "      <td>0.077516</td>\n",
              "      <td>0.098064</td>\n",
              "      <td>0.028553</td>\n",
              "      <td>1.000000</td>\n",
              "      <td>0.092336</td>\n",
              "    </tr>\n",
              "    <tr>\n",
              "      <th>VAR20</th>\n",
              "      <td>-0.103261</td>\n",
              "      <td>0.018308</td>\n",
              "      <td>0.050940</td>\n",
              "      <td>0.229492</td>\n",
              "      <td>0.073296</td>\n",
              "      <td>0.113370</td>\n",
              "      <td>0.168116</td>\n",
              "      <td>-0.031862</td>\n",
              "      <td>-0.021122</td>\n",
              "      <td>0.076796</td>\n",
              "      <td>-0.069696</td>\n",
              "      <td>0.029699</td>\n",
              "      <td>0.013695</td>\n",
              "      <td>0.033875</td>\n",
              "      <td>0.096646</td>\n",
              "      <td>0.098638</td>\n",
              "      <td>0.092336</td>\n",
              "      <td>1.000000</td>\n",
              "    </tr>\n",
              "  </tbody>\n",
              "</table>\n",
              "</div>"
            ],
            "text/plain": [
              "           VAR2      VAR3      VAR4  ...     VAR18     VAR19     VAR20\n",
              "VAR2   1.000000  0.001972 -0.520364  ...  0.062919 -0.064833 -0.103261\n",
              "VAR3   0.001972  1.000000 -0.006435  ...  0.013064  0.004490  0.018308\n",
              "VAR4  -0.520364 -0.006435  1.000000  ... -0.037142  0.115342  0.050940\n",
              "VAR5  -0.198825  0.007076  0.209725  ...  0.034296 -0.130859  0.229492\n",
              "VAR6   0.024563  0.026434 -0.026012  ...  0.049143  0.083432  0.073296\n",
              "VAR7  -0.027956  0.018932  0.016341  ...  0.024797  0.115910  0.113370\n",
              "VAR8  -0.049848  0.025569  0.063607  ...  0.041071  0.166366  0.168116\n",
              "VAR9  -0.005974  0.005590  0.014895  ...  0.007195 -0.218252 -0.031862\n",
              "VAR10  0.044978 -0.000101 -0.033471  ...  0.018898 -0.248395 -0.021122\n",
              "VAR11 -0.170889  0.008638  0.199767  ...  0.026608  0.079181  0.076796\n",
              "VAR12  0.145806  0.077644 -0.100896  ...  0.076527  0.034649 -0.069696\n",
              "VAR13  0.131859  0.017939 -0.079159  ...  0.058514  0.072172  0.029699\n",
              "VAR14 -0.036751  0.005851  0.054763  ... -0.017118  0.299530  0.013695\n",
              "VAR15  0.100009  0.016350 -0.042410  ...  0.055073  0.077516  0.033875\n",
              "VAR16 -0.024563  0.016033  0.015877  ...  0.020018  0.098064  0.096646\n",
              "VAR18  0.062919  0.013064 -0.037142  ...  1.000000  0.028553  0.098638\n",
              "VAR19 -0.064833  0.004490  0.115342  ...  0.028553  1.000000  0.092336\n",
              "VAR20 -0.103261  0.018308  0.050940  ...  0.098638  0.092336  1.000000\n",
              "\n",
              "[18 rows x 18 columns]"
            ]
          },
          "metadata": {
            "tags": []
          },
          "execution_count": 154
        }
      ]
    },
    {
      "cell_type": "code",
      "metadata": {
        "id": "okbRuj2bhrTE",
        "colab_type": "code",
        "outputId": "f524b556-0809-436d-a063-284cd1f47c15",
        "colab": {
          "base_uri": "https://localhost:8080/",
          "height": 391
        }
      },
      "source": [
        "train.isnull().sum()"
      ],
      "execution_count": 0,
      "outputs": [
        {
          "output_type": "execute_result",
          "data": {
            "text/plain": [
              "VAR1         0\n",
              "VAR2       961\n",
              "VAR3      3385\n",
              "VAR4     12494\n",
              "VAR5         1\n",
              "VAR6      3495\n",
              "VAR7       835\n",
              "VAR8       835\n",
              "VAR9     15817\n",
              "VAR10     4550\n",
              "VAR11     7565\n",
              "VAR12    10502\n",
              "VAR13     8522\n",
              "VAR14        0\n",
              "VAR15     8024\n",
              "VAR16      866\n",
              "VAR17    22194\n",
              "VAR18        0\n",
              "VAR19        0\n",
              "VAR20        0\n",
              "VAR21        0\n",
              "dtype: int64"
            ]
          },
          "metadata": {
            "tags": []
          },
          "execution_count": 8
        }
      ]
    },
    {
      "cell_type": "code",
      "metadata": {
        "id": "xUg43H1ditXy",
        "colab_type": "code",
        "outputId": "70e51cd3-d58b-4dbd-fc8c-4e8311d8bb4d",
        "colab": {
          "base_uri": "https://localhost:8080/",
          "height": 34
        }
      },
      "source": [
        "(df[\"VAR3\"]<1).sum()"
      ],
      "execution_count": 0,
      "outputs": [
        {
          "output_type": "execute_result",
          "data": {
            "text/plain": [
              "33654"
            ]
          },
          "metadata": {
            "tags": []
          },
          "execution_count": 9
        }
      ]
    },
    {
      "cell_type": "code",
      "metadata": {
        "id": "8EyI0o3lj_w8",
        "colab_type": "code",
        "outputId": "5966253c-2eec-4af8-c10d-22a8442612d7",
        "colab": {
          "base_uri": "https://localhost:8080/",
          "height": 317
        }
      },
      "source": [
        "train.describe()"
      ],
      "execution_count": 0,
      "outputs": [
        {
          "output_type": "execute_result",
          "data": {
            "text/html": [
              "<div>\n",
              "<style scoped>\n",
              "    .dataframe tbody tr th:only-of-type {\n",
              "        vertical-align: middle;\n",
              "    }\n",
              "\n",
              "    .dataframe tbody tr th {\n",
              "        vertical-align: top;\n",
              "    }\n",
              "\n",
              "    .dataframe thead th {\n",
              "        text-align: right;\n",
              "    }\n",
              "</style>\n",
              "<table border=\"1\" class=\"dataframe\">\n",
              "  <thead>\n",
              "    <tr style=\"text-align: right;\">\n",
              "      <th></th>\n",
              "      <th>VAR1</th>\n",
              "      <th>VAR2</th>\n",
              "      <th>VAR3</th>\n",
              "      <th>VAR4</th>\n",
              "      <th>VAR5</th>\n",
              "      <th>VAR6</th>\n",
              "      <th>VAR7</th>\n",
              "      <th>VAR8</th>\n",
              "      <th>VAR9</th>\n",
              "      <th>VAR10</th>\n",
              "      <th>VAR11</th>\n",
              "      <th>VAR12</th>\n",
              "      <th>VAR13</th>\n",
              "      <th>VAR15</th>\n",
              "      <th>VAR16</th>\n",
              "      <th>VAR17</th>\n",
              "      <th>VAR18</th>\n",
              "      <th>VAR19</th>\n",
              "      <th>VAR20</th>\n",
              "    </tr>\n",
              "  </thead>\n",
              "  <tbody>\n",
              "    <tr>\n",
              "      <th>count</th>\n",
              "      <td>34000.000000</td>\n",
              "      <td>33039.000000</td>\n",
              "      <td>30615.000000</td>\n",
              "      <td>21506.000000</td>\n",
              "      <td>33999.000000</td>\n",
              "      <td>30505.000000</td>\n",
              "      <td>33165.000000</td>\n",
              "      <td>33165.000000</td>\n",
              "      <td>18183.000000</td>\n",
              "      <td>29450.000000</td>\n",
              "      <td>26435.000000</td>\n",
              "      <td>23498.000000</td>\n",
              "      <td>25478.000000</td>\n",
              "      <td>25976.000000</td>\n",
              "      <td>33134.000000</td>\n",
              "      <td>11806.000000</td>\n",
              "      <td>34000.000000</td>\n",
              "      <td>34000.000000</td>\n",
              "      <td>34000.000000</td>\n",
              "    </tr>\n",
              "    <tr>\n",
              "      <th>mean</th>\n",
              "      <td>17000.500000</td>\n",
              "      <td>917.391603</td>\n",
              "      <td>1.119596</td>\n",
              "      <td>248.076201</td>\n",
              "      <td>631.571391</td>\n",
              "      <td>15.290028</td>\n",
              "      <td>2.055295</td>\n",
              "      <td>200.007169</td>\n",
              "      <td>53.988554</td>\n",
              "      <td>56.497320</td>\n",
              "      <td>5.429062</td>\n",
              "      <td>117.283667</td>\n",
              "      <td>11.679589</td>\n",
              "      <td>12.453257</td>\n",
              "      <td>2.092006</td>\n",
              "      <td>821.281092</td>\n",
              "      <td>0.400029</td>\n",
              "      <td>0.298059</td>\n",
              "      <td>161.355950</td>\n",
              "    </tr>\n",
              "    <tr>\n",
              "      <th>std</th>\n",
              "      <td>9815.098913</td>\n",
              "      <td>50.222389</td>\n",
              "      <td>12.714724</td>\n",
              "      <td>241.167723</td>\n",
              "      <td>30.863288</td>\n",
              "      <td>29.123815</td>\n",
              "      <td>8.960891</td>\n",
              "      <td>11.282223</td>\n",
              "      <td>84.573655</td>\n",
              "      <td>6.861058</td>\n",
              "      <td>11.433905</td>\n",
              "      <td>120.628594</td>\n",
              "      <td>11.063966</td>\n",
              "      <td>12.084965</td>\n",
              "      <td>8.051804</td>\n",
              "      <td>262.338240</td>\n",
              "      <td>0.684850</td>\n",
              "      <td>0.457412</td>\n",
              "      <td>123.231136</td>\n",
              "    </tr>\n",
              "    <tr>\n",
              "      <th>min</th>\n",
              "      <td>1.000000</td>\n",
              "      <td>730.588235</td>\n",
              "      <td>0.001333</td>\n",
              "      <td>18.928571</td>\n",
              "      <td>347.053355</td>\n",
              "      <td>0.005000</td>\n",
              "      <td>0.353228</td>\n",
              "      <td>0.000000</td>\n",
              "      <td>0.004278</td>\n",
              "      <td>13.028620</td>\n",
              "      <td>0.000693</td>\n",
              "      <td>0.834028</td>\n",
              "      <td>0.082667</td>\n",
              "      <td>0.133333</td>\n",
              "      <td>0.959315</td>\n",
              "      <td>0.130000</td>\n",
              "      <td>0.000000</td>\n",
              "      <td>0.000000</td>\n",
              "      <td>0.000000</td>\n",
              "    </tr>\n",
              "    <tr>\n",
              "      <th>25%</th>\n",
              "      <td>8500.750000</td>\n",
              "      <td>882.352941</td>\n",
              "      <td>0.083333</td>\n",
              "      <td>71.428571</td>\n",
              "      <td>611.691167</td>\n",
              "      <td>6.636364</td>\n",
              "      <td>0.691201</td>\n",
              "      <td>197.196716</td>\n",
              "      <td>8.784613</td>\n",
              "      <td>57.458373</td>\n",
              "      <td>0.638239</td>\n",
              "      <td>15.012510</td>\n",
              "      <td>5.666667</td>\n",
              "      <td>6.666667</td>\n",
              "      <td>1.040125</td>\n",
              "      <td>732.662500</td>\n",
              "      <td>0.000000</td>\n",
              "      <td>0.000000</td>\n",
              "      <td>104.385542</td>\n",
              "    </tr>\n",
              "    <tr>\n",
              "      <th>50%</th>\n",
              "      <td>17000.500000</td>\n",
              "      <td>924.705882</td>\n",
              "      <td>0.166667</td>\n",
              "      <td>142.857143</td>\n",
              "      <td>619.802909</td>\n",
              "      <td>10.000000</td>\n",
              "      <td>0.998093</td>\n",
              "      <td>197.912501</td>\n",
              "      <td>22.086661</td>\n",
              "      <td>58.632548</td>\n",
              "      <td>2.098360</td>\n",
              "      <td>80.066722</td>\n",
              "      <td>10.000000</td>\n",
              "      <td>10.000000</td>\n",
              "      <td>1.262747</td>\n",
              "      <td>965.345000</td>\n",
              "      <td>0.000000</td>\n",
              "      <td>0.000000</td>\n",
              "      <td>117.493115</td>\n",
              "    </tr>\n",
              "    <tr>\n",
              "      <th>75%</th>\n",
              "      <td>25500.250000</td>\n",
              "      <td>956.470588</td>\n",
              "      <td>0.555556</td>\n",
              "      <td>357.142857</td>\n",
              "      <td>637.450565</td>\n",
              "      <td>18.181818</td>\n",
              "      <td>1.735250</td>\n",
              "      <td>199.687427</td>\n",
              "      <td>58.559811</td>\n",
              "      <td>58.632548</td>\n",
              "      <td>6.043179</td>\n",
              "      <td>193.494579</td>\n",
              "      <td>15.333333</td>\n",
              "      <td>16.400000</td>\n",
              "      <td>1.827486</td>\n",
              "      <td>1000.000000</td>\n",
              "      <td>1.000000</td>\n",
              "      <td>1.000000</td>\n",
              "      <td>159.446213</td>\n",
              "    </tr>\n",
              "    <tr>\n",
              "      <th>max</th>\n",
              "      <td>34000.000000</td>\n",
              "      <td>1000.000000</td>\n",
              "      <td>1000.000000</td>\n",
              "      <td>1000.000000</td>\n",
              "      <td>1000.000000</td>\n",
              "      <td>909.090818</td>\n",
              "      <td>681.582083</td>\n",
              "      <td>1000.000000</td>\n",
              "      <td>993.061289</td>\n",
              "      <td>1000.000000</td>\n",
              "      <td>824.334457</td>\n",
              "      <td>1000.000000</td>\n",
              "      <td>775.000000</td>\n",
              "      <td>775.000000</td>\n",
              "      <td>1000.000000</td>\n",
              "      <td>1000.000000</td>\n",
              "      <td>14.000000</td>\n",
              "      <td>1.000000</td>\n",
              "      <td>1000.000000</td>\n",
              "    </tr>\n",
              "  </tbody>\n",
              "</table>\n",
              "</div>"
            ],
            "text/plain": [
              "               VAR1          VAR2  ...         VAR19         VAR20\n",
              "count  34000.000000  33039.000000  ...  34000.000000  34000.000000\n",
              "mean   17000.500000    917.391603  ...      0.298059    161.355950\n",
              "std     9815.098913     50.222389  ...      0.457412    123.231136\n",
              "min        1.000000    730.588235  ...      0.000000      0.000000\n",
              "25%     8500.750000    882.352941  ...      0.000000    104.385542\n",
              "50%    17000.500000    924.705882  ...      0.000000    117.493115\n",
              "75%    25500.250000    956.470588  ...      1.000000    159.446213\n",
              "max    34000.000000   1000.000000  ...      1.000000   1000.000000\n",
              "\n",
              "[8 rows x 19 columns]"
            ]
          },
          "metadata": {
            "tags": []
          },
          "execution_count": 10
        }
      ]
    },
    {
      "cell_type": "code",
      "metadata": {
        "id": "oYOEvnzMHaTJ",
        "colab_type": "code",
        "outputId": "281916d6-98f8-4c0d-f195-e5f69ff89a59",
        "colab": {
          "base_uri": "https://localhost:8080/",
          "height": 391
        }
      },
      "source": [
        "df.dtypes"
      ],
      "execution_count": 0,
      "outputs": [
        {
          "output_type": "execute_result",
          "data": {
            "text/plain": [
              "VAR1       int64\n",
              "VAR2     float64\n",
              "VAR3     float64\n",
              "VAR4     float64\n",
              "VAR5     float64\n",
              "VAR6     float64\n",
              "VAR7     float64\n",
              "VAR8     float64\n",
              "VAR9     float64\n",
              "VAR10    float64\n",
              "VAR11    float64\n",
              "VAR12    float64\n",
              "VAR13    float64\n",
              "VAR14     object\n",
              "VAR15    float64\n",
              "VAR16    float64\n",
              "VAR17    float64\n",
              "VAR18      int64\n",
              "VAR19      int64\n",
              "VAR20    float64\n",
              "VAR21     object\n",
              "dtype: object"
            ]
          },
          "metadata": {
            "tags": []
          },
          "execution_count": 11
        }
      ]
    },
    {
      "cell_type": "code",
      "metadata": {
        "id": "Yhl1agdVSdZg",
        "colab_type": "code",
        "colab": {}
      },
      "source": [
        "df[\"VAR14\"]=df[\"VAR14\"].replace('.',0)\n",
        "train[\"VAR14\"]=train[\"VAR14\"].replace('.',0)\n",
        "test[\"VAR14\"]=test[\"VAR14\"].replace('.',0)"
      ],
      "execution_count": 0,
      "outputs": []
    },
    {
      "cell_type": "code",
      "metadata": {
        "id": "_okr84XkOd6z",
        "colab_type": "code",
        "colab": {}
      },
      "source": [
        "df[\"VAR14\"]=df['VAR14'].astype(str).astype(int)\n",
        "train[\"VAR14\"]=train['VAR14'].astype(str).astype(int)\n",
        "test[\"VAR14\"]=test['VAR14'].astype(str).astype(int)"
      ],
      "execution_count": 0,
      "outputs": []
    },
    {
      "cell_type": "code",
      "metadata": {
        "id": "MLRb_EKFRzm8",
        "colab_type": "code",
        "colab": {}
      },
      "source": [
        "  # Taking care of missing data\n",
        "  from sklearn.preprocessing import Imputer\n",
        "  imputer = Imputer(missing_values = 'NaN', strategy = 'median', axis = 0)\n",
        "  imputer = imputer.fit(df.iloc[:, 1:16])\n",
        "  df.iloc[:, 1:16] = imputer.transform(df.iloc[:, 1:16])\n",
        "  imr = Imputer(missing_values = 'NaN', strategy = 'most_frequent', axis = 0)\n",
        "  imr = imr.fit(df.iloc[:,17:18])\n",
        "  df.iloc[:,17:18] = imr.transform(df.iloc[:,17:18])\n",
        "  imputer = imputer.fit(df.iloc[:,19].values.reshape(-1,1))\n",
        "  df.iloc[:,19] = imputer.transform(df.iloc[:,19].values.reshape(-1,1))\n",
        " "
      ],
      "execution_count": 0,
      "outputs": []
    },
    {
      "cell_type": "code",
      "metadata": {
        "id": "PmSr1IRGUDEs",
        "colab_type": "code",
        "colab": {}
      },
      "source": [
        "train=train.drop('VAR17',axis=1)\n",
        "train=train.drop('VAR1',axis=1)\n",
        "index=test['VAR1']"
      ],
      "execution_count": 0,
      "outputs": []
    },
    {
      "cell_type": "code",
      "metadata": {
        "id": "hNIiIPfkXxSO",
        "colab_type": "code",
        "colab": {}
      },
      "source": [
        "test=test.drop('VAR17',axis=1)\n",
        "test=test.drop('VAR1',axis=1)"
      ],
      "execution_count": 0,
      "outputs": []
    },
    {
      "cell_type": "code",
      "metadata": {
        "id": "GHzNwEVlPIj1",
        "colab_type": "code",
        "colab": {}
      },
      "source": [
        "df=df.drop('VAR17',axis=1)\n",
        "df=df.drop('VAR1',axis=1)"
      ],
      "execution_count": 0,
      "outputs": []
    },
    {
      "cell_type": "code",
      "metadata": {
        "id": "YN34rLx9X6NA",
        "colab_type": "code",
        "outputId": "c42534c7-0392-4219-b49a-fedf3c1ca8f7",
        "colab": {
          "base_uri": "https://localhost:8080/",
          "height": 357
        }
      },
      "source": [
        "df.isnull().sum()"
      ],
      "execution_count": 0,
      "outputs": [
        {
          "output_type": "execute_result",
          "data": {
            "text/plain": [
              "VAR2         0\n",
              "VAR3         0\n",
              "VAR4         0\n",
              "VAR5         0\n",
              "VAR6         0\n",
              "VAR7         0\n",
              "VAR8         0\n",
              "VAR9         0\n",
              "VAR10        0\n",
              "VAR11        0\n",
              "VAR12        0\n",
              "VAR13        0\n",
              "VAR14        0\n",
              "VAR15        0\n",
              "VAR16        0\n",
              "VAR18        0\n",
              "VAR19        0\n",
              "VAR20        0\n",
              "VAR21    10000\n",
              "dtype: int64"
            ]
          },
          "metadata": {
            "tags": []
          },
          "execution_count": 18
        }
      ]
    },
    {
      "cell_type": "code",
      "metadata": {
        "id": "ZXijtN45PVF8",
        "colab_type": "code",
        "colab": {}
      },
      "source": [
        "from sklearn import preprocessing\n",
        "out=train['VAR21']\n",
        "df1= preprocessing.normalize(df.drop('VAR21',axis=1))"
      ],
      "execution_count": 0,
      "outputs": []
    },
    {
      "cell_type": "code",
      "metadata": {
        "id": "YKShii-GUlu2",
        "colab_type": "code",
        "colab": {}
      },
      "source": [
        "df=df.drop('VAR21',axis=1)"
      ],
      "execution_count": 0,
      "outputs": []
    },
    {
      "cell_type": "code",
      "metadata": {
        "id": "7VAlCRMXVIZh",
        "colab_type": "code",
        "colab": {}
      },
      "source": [
        "out=pd.DataFrame(out)"
      ],
      "execution_count": 0,
      "outputs": []
    },
    {
      "cell_type": "code",
      "metadata": {
        "id": "LkUXcxDOStB9",
        "colab_type": "code",
        "outputId": "29f61c1a-a383-4e3c-fe84-e7cc0781409e",
        "colab": {
          "base_uri": "https://localhost:8080/",
          "height": 224
        }
      },
      "source": [
        "df1=pd.DataFrame(df1)\n",
        "\n",
        "df1.columns=df.columns\n",
        "df1.head()\n"
      ],
      "execution_count": 0,
      "outputs": [
        {
          "output_type": "execute_result",
          "data": {
            "text/html": [
              "<div>\n",
              "<style scoped>\n",
              "    .dataframe tbody tr th:only-of-type {\n",
              "        vertical-align: middle;\n",
              "    }\n",
              "\n",
              "    .dataframe tbody tr th {\n",
              "        vertical-align: top;\n",
              "    }\n",
              "\n",
              "    .dataframe thead th {\n",
              "        text-align: right;\n",
              "    }\n",
              "</style>\n",
              "<table border=\"1\" class=\"dataframe\">\n",
              "  <thead>\n",
              "    <tr style=\"text-align: right;\">\n",
              "      <th></th>\n",
              "      <th>VAR2</th>\n",
              "      <th>VAR3</th>\n",
              "      <th>VAR4</th>\n",
              "      <th>VAR5</th>\n",
              "      <th>VAR6</th>\n",
              "      <th>VAR7</th>\n",
              "      <th>VAR8</th>\n",
              "      <th>VAR9</th>\n",
              "      <th>VAR10</th>\n",
              "      <th>VAR11</th>\n",
              "      <th>VAR12</th>\n",
              "      <th>VAR13</th>\n",
              "      <th>VAR14</th>\n",
              "      <th>VAR15</th>\n",
              "      <th>VAR16</th>\n",
              "      <th>VAR18</th>\n",
              "      <th>VAR19</th>\n",
              "      <th>VAR20</th>\n",
              "    </tr>\n",
              "  </thead>\n",
              "  <tbody>\n",
              "    <tr>\n",
              "      <th>0</th>\n",
              "      <td>0.742498</td>\n",
              "      <td>0.000125</td>\n",
              "      <td>0.288155</td>\n",
              "      <td>0.561118</td>\n",
              "      <td>0.001630</td>\n",
              "      <td>0.000970</td>\n",
              "      <td>0.177605</td>\n",
              "      <td>0.019800</td>\n",
              "      <td>0.052563</td>\n",
              "      <td>0.000250</td>\n",
              "      <td>0.089723</td>\n",
              "      <td>0.000896</td>\n",
              "      <td>0.000896</td>\n",
              "      <td>0.000896</td>\n",
              "      <td>0.001381</td>\n",
              "      <td>0.000896</td>\n",
              "      <td>0.00000</td>\n",
              "      <td>0.089742</td>\n",
              "    </tr>\n",
              "    <tr>\n",
              "      <th>1</th>\n",
              "      <td>0.802414</td>\n",
              "      <td>0.000024</td>\n",
              "      <td>0.125724</td>\n",
              "      <td>0.538227</td>\n",
              "      <td>0.007201</td>\n",
              "      <td>0.001183</td>\n",
              "      <td>0.174781</td>\n",
              "      <td>0.019438</td>\n",
              "      <td>0.051601</td>\n",
              "      <td>0.001847</td>\n",
              "      <td>0.013212</td>\n",
              "      <td>0.008801</td>\n",
              "      <td>0.000880</td>\n",
              "      <td>0.008801</td>\n",
              "      <td>0.001421</td>\n",
              "      <td>0.000000</td>\n",
              "      <td>0.00088</td>\n",
              "      <td>0.129065</td>\n",
              "    </tr>\n",
              "    <tr>\n",
              "      <th>2</th>\n",
              "      <td>0.812300</td>\n",
              "      <td>0.000703</td>\n",
              "      <td>0.030146</td>\n",
              "      <td>0.519804</td>\n",
              "      <td>0.006906</td>\n",
              "      <td>0.000608</td>\n",
              "      <td>0.166509</td>\n",
              "      <td>0.018643</td>\n",
              "      <td>0.049490</td>\n",
              "      <td>0.000383</td>\n",
              "      <td>0.177404</td>\n",
              "      <td>0.008441</td>\n",
              "      <td>0.000844</td>\n",
              "      <td>0.008441</td>\n",
              "      <td>0.000882</td>\n",
              "      <td>0.000000</td>\n",
              "      <td>0.00000</td>\n",
              "      <td>0.082930</td>\n",
              "    </tr>\n",
              "    <tr>\n",
              "      <th>3</th>\n",
              "      <td>0.785022</td>\n",
              "      <td>0.000147</td>\n",
              "      <td>0.125592</td>\n",
              "      <td>0.560960</td>\n",
              "      <td>0.007992</td>\n",
              "      <td>0.000721</td>\n",
              "      <td>0.173504</td>\n",
              "      <td>0.003836</td>\n",
              "      <td>0.051546</td>\n",
              "      <td>0.001845</td>\n",
              "      <td>0.070390</td>\n",
              "      <td>0.008791</td>\n",
              "      <td>0.000879</td>\n",
              "      <td>0.008791</td>\n",
              "      <td>0.001007</td>\n",
              "      <td>0.000879</td>\n",
              "      <td>0.00000</td>\n",
              "      <td>0.123838</td>\n",
              "    </tr>\n",
              "    <tr>\n",
              "      <th>4</th>\n",
              "      <td>0.785716</td>\n",
              "      <td>0.000072</td>\n",
              "      <td>0.122791</td>\n",
              "      <td>0.538511</td>\n",
              "      <td>0.004454</td>\n",
              "      <td>0.001180</td>\n",
              "      <td>0.170867</td>\n",
              "      <td>0.073867</td>\n",
              "      <td>0.050397</td>\n",
              "      <td>0.001804</td>\n",
              "      <td>0.180653</td>\n",
              "      <td>0.008595</td>\n",
              "      <td>0.000000</td>\n",
              "      <td>0.008595</td>\n",
              "      <td>0.001339</td>\n",
              "      <td>0.000860</td>\n",
              "      <td>0.00000</td>\n",
              "      <td>0.087044</td>\n",
              "    </tr>\n",
              "  </tbody>\n",
              "</table>\n",
              "</div>"
            ],
            "text/plain": [
              "       VAR2      VAR3      VAR4  ...     VAR18    VAR19     VAR20\n",
              "0  0.742498  0.000125  0.288155  ...  0.000896  0.00000  0.089742\n",
              "1  0.802414  0.000024  0.125724  ...  0.000000  0.00088  0.129065\n",
              "2  0.812300  0.000703  0.030146  ...  0.000000  0.00000  0.082930\n",
              "3  0.785022  0.000147  0.125592  ...  0.000879  0.00000  0.123838\n",
              "4  0.785716  0.000072  0.122791  ...  0.000860  0.00000  0.087044\n",
              "\n",
              "[5 rows x 18 columns]"
            ]
          },
          "metadata": {
            "tags": []
          },
          "execution_count": 22
        }
      ]
    },
    {
      "cell_type": "code",
      "metadata": {
        "id": "TQb6qqO3Vm46",
        "colab_type": "code",
        "colab": {}
      },
      "source": [
        ""
      ],
      "execution_count": 0,
      "outputs": []
    },
    {
      "cell_type": "code",
      "metadata": {
        "id": "6zUtsdU7Rf1D",
        "colab_type": "code",
        "outputId": "5047da71-a6b6-42b9-d557-4be4bc329da0",
        "colab": {
          "base_uri": "https://localhost:8080/",
          "height": 317
        }
      },
      "source": [
        "pd.DataFrame(train).describe()"
      ],
      "execution_count": 0,
      "outputs": [
        {
          "output_type": "execute_result",
          "data": {
            "text/html": [
              "<div>\n",
              "<style scoped>\n",
              "    .dataframe tbody tr th:only-of-type {\n",
              "        vertical-align: middle;\n",
              "    }\n",
              "\n",
              "    .dataframe tbody tr th {\n",
              "        vertical-align: top;\n",
              "    }\n",
              "\n",
              "    .dataframe thead th {\n",
              "        text-align: right;\n",
              "    }\n",
              "</style>\n",
              "<table border=\"1\" class=\"dataframe\">\n",
              "  <thead>\n",
              "    <tr style=\"text-align: right;\">\n",
              "      <th></th>\n",
              "      <th>VAR2</th>\n",
              "      <th>VAR3</th>\n",
              "      <th>VAR4</th>\n",
              "      <th>VAR5</th>\n",
              "      <th>VAR6</th>\n",
              "      <th>VAR7</th>\n",
              "      <th>VAR8</th>\n",
              "      <th>VAR9</th>\n",
              "      <th>VAR10</th>\n",
              "      <th>VAR11</th>\n",
              "      <th>VAR12</th>\n",
              "      <th>VAR13</th>\n",
              "      <th>VAR14</th>\n",
              "      <th>VAR15</th>\n",
              "      <th>VAR16</th>\n",
              "      <th>VAR18</th>\n",
              "      <th>VAR19</th>\n",
              "      <th>VAR20</th>\n",
              "    </tr>\n",
              "  </thead>\n",
              "  <tbody>\n",
              "    <tr>\n",
              "      <th>count</th>\n",
              "      <td>33039.000000</td>\n",
              "      <td>30615.000000</td>\n",
              "      <td>21506.000000</td>\n",
              "      <td>33999.000000</td>\n",
              "      <td>30505.000000</td>\n",
              "      <td>33165.000000</td>\n",
              "      <td>33165.000000</td>\n",
              "      <td>18183.000000</td>\n",
              "      <td>29450.000000</td>\n",
              "      <td>26435.000000</td>\n",
              "      <td>23498.000000</td>\n",
              "      <td>25478.000000</td>\n",
              "      <td>34000.000000</td>\n",
              "      <td>25976.000000</td>\n",
              "      <td>33134.000000</td>\n",
              "      <td>34000.000000</td>\n",
              "      <td>34000.000000</td>\n",
              "      <td>34000.000000</td>\n",
              "    </tr>\n",
              "    <tr>\n",
              "      <th>mean</th>\n",
              "      <td>917.391603</td>\n",
              "      <td>1.119596</td>\n",
              "      <td>248.076201</td>\n",
              "      <td>631.571391</td>\n",
              "      <td>15.290028</td>\n",
              "      <td>2.055295</td>\n",
              "      <td>200.007169</td>\n",
              "      <td>53.988554</td>\n",
              "      <td>56.497320</td>\n",
              "      <td>5.429062</td>\n",
              "      <td>117.283667</td>\n",
              "      <td>11.679589</td>\n",
              "      <td>1.524088</td>\n",
              "      <td>12.453257</td>\n",
              "      <td>2.092006</td>\n",
              "      <td>0.400029</td>\n",
              "      <td>0.298059</td>\n",
              "      <td>161.355950</td>\n",
              "    </tr>\n",
              "    <tr>\n",
              "      <th>std</th>\n",
              "      <td>50.222389</td>\n",
              "      <td>12.714724</td>\n",
              "      <td>241.167723</td>\n",
              "      <td>30.863288</td>\n",
              "      <td>29.123815</td>\n",
              "      <td>8.960891</td>\n",
              "      <td>11.282223</td>\n",
              "      <td>84.573655</td>\n",
              "      <td>6.861058</td>\n",
              "      <td>11.433905</td>\n",
              "      <td>120.628594</td>\n",
              "      <td>11.063966</td>\n",
              "      <td>1.141845</td>\n",
              "      <td>12.084965</td>\n",
              "      <td>8.051804</td>\n",
              "      <td>0.684850</td>\n",
              "      <td>0.457412</td>\n",
              "      <td>123.231136</td>\n",
              "    </tr>\n",
              "    <tr>\n",
              "      <th>min</th>\n",
              "      <td>730.588235</td>\n",
              "      <td>0.001333</td>\n",
              "      <td>18.928571</td>\n",
              "      <td>347.053355</td>\n",
              "      <td>0.005000</td>\n",
              "      <td>0.353228</td>\n",
              "      <td>0.000000</td>\n",
              "      <td>0.004278</td>\n",
              "      <td>13.028620</td>\n",
              "      <td>0.000693</td>\n",
              "      <td>0.834028</td>\n",
              "      <td>0.082667</td>\n",
              "      <td>0.000000</td>\n",
              "      <td>0.133333</td>\n",
              "      <td>0.959315</td>\n",
              "      <td>0.000000</td>\n",
              "      <td>0.000000</td>\n",
              "      <td>0.000000</td>\n",
              "    </tr>\n",
              "    <tr>\n",
              "      <th>25%</th>\n",
              "      <td>882.352941</td>\n",
              "      <td>0.083333</td>\n",
              "      <td>71.428571</td>\n",
              "      <td>611.691167</td>\n",
              "      <td>6.636364</td>\n",
              "      <td>0.691201</td>\n",
              "      <td>197.196716</td>\n",
              "      <td>8.784613</td>\n",
              "      <td>57.458373</td>\n",
              "      <td>0.638239</td>\n",
              "      <td>15.012510</td>\n",
              "      <td>5.666667</td>\n",
              "      <td>1.000000</td>\n",
              "      <td>6.666667</td>\n",
              "      <td>1.040125</td>\n",
              "      <td>0.000000</td>\n",
              "      <td>0.000000</td>\n",
              "      <td>104.385542</td>\n",
              "    </tr>\n",
              "    <tr>\n",
              "      <th>50%</th>\n",
              "      <td>924.705882</td>\n",
              "      <td>0.166667</td>\n",
              "      <td>142.857143</td>\n",
              "      <td>619.802909</td>\n",
              "      <td>10.000000</td>\n",
              "      <td>0.998093</td>\n",
              "      <td>197.912501</td>\n",
              "      <td>22.086661</td>\n",
              "      <td>58.632548</td>\n",
              "      <td>2.098360</td>\n",
              "      <td>80.066722</td>\n",
              "      <td>10.000000</td>\n",
              "      <td>1.000000</td>\n",
              "      <td>10.000000</td>\n",
              "      <td>1.262747</td>\n",
              "      <td>0.000000</td>\n",
              "      <td>0.000000</td>\n",
              "      <td>117.493115</td>\n",
              "    </tr>\n",
              "    <tr>\n",
              "      <th>75%</th>\n",
              "      <td>956.470588</td>\n",
              "      <td>0.555556</td>\n",
              "      <td>357.142857</td>\n",
              "      <td>637.450565</td>\n",
              "      <td>18.181818</td>\n",
              "      <td>1.735250</td>\n",
              "      <td>199.687427</td>\n",
              "      <td>58.559811</td>\n",
              "      <td>58.632548</td>\n",
              "      <td>6.043179</td>\n",
              "      <td>193.494579</td>\n",
              "      <td>15.333333</td>\n",
              "      <td>2.000000</td>\n",
              "      <td>16.400000</td>\n",
              "      <td>1.827486</td>\n",
              "      <td>1.000000</td>\n",
              "      <td>1.000000</td>\n",
              "      <td>159.446213</td>\n",
              "    </tr>\n",
              "    <tr>\n",
              "      <th>max</th>\n",
              "      <td>1000.000000</td>\n",
              "      <td>1000.000000</td>\n",
              "      <td>1000.000000</td>\n",
              "      <td>1000.000000</td>\n",
              "      <td>909.090818</td>\n",
              "      <td>681.582083</td>\n",
              "      <td>1000.000000</td>\n",
              "      <td>993.061289</td>\n",
              "      <td>1000.000000</td>\n",
              "      <td>824.334457</td>\n",
              "      <td>1000.000000</td>\n",
              "      <td>775.000000</td>\n",
              "      <td>104.000000</td>\n",
              "      <td>775.000000</td>\n",
              "      <td>1000.000000</td>\n",
              "      <td>14.000000</td>\n",
              "      <td>1.000000</td>\n",
              "      <td>1000.000000</td>\n",
              "    </tr>\n",
              "  </tbody>\n",
              "</table>\n",
              "</div>"
            ],
            "text/plain": [
              "               VAR2          VAR3  ...         VAR19         VAR20\n",
              "count  33039.000000  30615.000000  ...  34000.000000  34000.000000\n",
              "mean     917.391603      1.119596  ...      0.298059    161.355950\n",
              "std       50.222389     12.714724  ...      0.457412    123.231136\n",
              "min      730.588235      0.001333  ...      0.000000      0.000000\n",
              "25%      882.352941      0.083333  ...      0.000000    104.385542\n",
              "50%      924.705882      0.166667  ...      0.000000    117.493115\n",
              "75%      956.470588      0.555556  ...      1.000000    159.446213\n",
              "max     1000.000000   1000.000000  ...      1.000000   1000.000000\n",
              "\n",
              "[8 rows x 18 columns]"
            ]
          },
          "metadata": {
            "tags": []
          },
          "execution_count": 23
        }
      ]
    },
    {
      "cell_type": "code",
      "metadata": {
        "id": "cFfI_KPrRqWc",
        "colab_type": "code",
        "outputId": "cdfc6ec2-1cd4-4f47-ba27-38e2865828ba",
        "colab": {
          "base_uri": "https://localhost:8080/",
          "height": 317
        }
      },
      "source": [
        "pd.DataFrame(test).describe()"
      ],
      "execution_count": 0,
      "outputs": [
        {
          "output_type": "execute_result",
          "data": {
            "text/html": [
              "<div>\n",
              "<style scoped>\n",
              "    .dataframe tbody tr th:only-of-type {\n",
              "        vertical-align: middle;\n",
              "    }\n",
              "\n",
              "    .dataframe tbody tr th {\n",
              "        vertical-align: top;\n",
              "    }\n",
              "\n",
              "    .dataframe thead th {\n",
              "        text-align: right;\n",
              "    }\n",
              "</style>\n",
              "<table border=\"1\" class=\"dataframe\">\n",
              "  <thead>\n",
              "    <tr style=\"text-align: right;\">\n",
              "      <th></th>\n",
              "      <th>VAR2</th>\n",
              "      <th>VAR3</th>\n",
              "      <th>VAR4</th>\n",
              "      <th>VAR5</th>\n",
              "      <th>VAR6</th>\n",
              "      <th>VAR7</th>\n",
              "      <th>VAR8</th>\n",
              "      <th>VAR9</th>\n",
              "      <th>VAR10</th>\n",
              "      <th>VAR11</th>\n",
              "      <th>VAR12</th>\n",
              "      <th>VAR13</th>\n",
              "      <th>VAR14</th>\n",
              "      <th>VAR15</th>\n",
              "      <th>VAR16</th>\n",
              "      <th>VAR18</th>\n",
              "      <th>VAR19</th>\n",
              "      <th>VAR20</th>\n",
              "    </tr>\n",
              "  </thead>\n",
              "  <tbody>\n",
              "    <tr>\n",
              "      <th>count</th>\n",
              "      <td>9733.000000</td>\n",
              "      <td>9063.000000</td>\n",
              "      <td>6314.000000</td>\n",
              "      <td>10000.000000</td>\n",
              "      <td>8942.000000</td>\n",
              "      <td>9785.000000</td>\n",
              "      <td>9785.000000</td>\n",
              "      <td>5299.000000</td>\n",
              "      <td>8652.000000</td>\n",
              "      <td>7769.000000</td>\n",
              "      <td>6799.000000</td>\n",
              "      <td>7507.000000</td>\n",
              "      <td>10000.00000</td>\n",
              "      <td>7641.000000</td>\n",
              "      <td>9771.000000</td>\n",
              "      <td>10000.000000</td>\n",
              "      <td>10000.000000</td>\n",
              "      <td>10000.000000</td>\n",
              "    </tr>\n",
              "    <tr>\n",
              "      <th>mean</th>\n",
              "      <td>917.904763</td>\n",
              "      <td>1.222283</td>\n",
              "      <td>244.745633</td>\n",
              "      <td>631.374549</td>\n",
              "      <td>15.185077</td>\n",
              "      <td>1.947810</td>\n",
              "      <td>199.913487</td>\n",
              "      <td>52.961466</td>\n",
              "      <td>56.432554</td>\n",
              "      <td>5.326532</td>\n",
              "      <td>114.775746</td>\n",
              "      <td>11.900945</td>\n",
              "      <td>1.52680</td>\n",
              "      <td>12.720950</td>\n",
              "      <td>1.992517</td>\n",
              "      <td>0.400600</td>\n",
              "      <td>0.302500</td>\n",
              "      <td>161.013031</td>\n",
              "    </tr>\n",
              "    <tr>\n",
              "      <th>std</th>\n",
              "      <td>50.534988</td>\n",
              "      <td>13.254280</td>\n",
              "      <td>240.709776</td>\n",
              "      <td>30.892544</td>\n",
              "      <td>30.895939</td>\n",
              "      <td>5.081216</td>\n",
              "      <td>8.536389</td>\n",
              "      <td>81.424117</td>\n",
              "      <td>4.097975</td>\n",
              "      <td>14.614213</td>\n",
              "      <td>120.012642</td>\n",
              "      <td>16.276969</td>\n",
              "      <td>1.00119</td>\n",
              "      <td>17.203552</td>\n",
              "      <td>3.904421</td>\n",
              "      <td>0.716778</td>\n",
              "      <td>0.459364</td>\n",
              "      <td>122.318602</td>\n",
              "    </tr>\n",
              "    <tr>\n",
              "      <th>min</th>\n",
              "      <td>725.882353</td>\n",
              "      <td>0.001333</td>\n",
              "      <td>34.642857</td>\n",
              "      <td>295.765648</td>\n",
              "      <td>0.008727</td>\n",
              "      <td>0.559710</td>\n",
              "      <td>191.443507</td>\n",
              "      <td>0.081280</td>\n",
              "      <td>2.101494</td>\n",
              "      <td>0.000693</td>\n",
              "      <td>0.834028</td>\n",
              "      <td>0.054000</td>\n",
              "      <td>0.00000</td>\n",
              "      <td>0.054000</td>\n",
              "      <td>0.959315</td>\n",
              "      <td>0.000000</td>\n",
              "      <td>0.000000</td>\n",
              "      <td>0.000000</td>\n",
              "    </tr>\n",
              "    <tr>\n",
              "      <th>25%</th>\n",
              "      <td>881.176471</td>\n",
              "      <td>0.083333</td>\n",
              "      <td>71.428571</td>\n",
              "      <td>611.683289</td>\n",
              "      <td>6.636364</td>\n",
              "      <td>0.689715</td>\n",
              "      <td>197.193266</td>\n",
              "      <td>8.780335</td>\n",
              "      <td>57.137997</td>\n",
              "      <td>0.647248</td>\n",
              "      <td>15.012510</td>\n",
              "      <td>5.666667</td>\n",
              "      <td>1.00000</td>\n",
              "      <td>6.666667</td>\n",
              "      <td>1.039381</td>\n",
              "      <td>0.000000</td>\n",
              "      <td>0.000000</td>\n",
              "      <td>104.438038</td>\n",
              "    </tr>\n",
              "    <tr>\n",
              "      <th>50%</th>\n",
              "      <td>925.882353</td>\n",
              "      <td>0.166667</td>\n",
              "      <td>142.857143</td>\n",
              "      <td>619.838798</td>\n",
              "      <td>10.000000</td>\n",
              "      <td>1.005260</td>\n",
              "      <td>197.904229</td>\n",
              "      <td>22.086661</td>\n",
              "      <td>58.632548</td>\n",
              "      <td>2.105289</td>\n",
              "      <td>80.066722</td>\n",
              "      <td>10.000000</td>\n",
              "      <td>1.00000</td>\n",
              "      <td>10.133333</td>\n",
              "      <td>1.267686</td>\n",
              "      <td>0.000000</td>\n",
              "      <td>0.000000</td>\n",
              "      <td>117.569707</td>\n",
              "    </tr>\n",
              "    <tr>\n",
              "      <th>75%</th>\n",
              "      <td>957.647059</td>\n",
              "      <td>0.555556</td>\n",
              "      <td>357.142857</td>\n",
              "      <td>637.280750</td>\n",
              "      <td>18.181818</td>\n",
              "      <td>1.734506</td>\n",
              "      <td>199.628377</td>\n",
              "      <td>59.642113</td>\n",
              "      <td>58.632548</td>\n",
              "      <td>6.053920</td>\n",
              "      <td>188.490409</td>\n",
              "      <td>15.333333</td>\n",
              "      <td>2.00000</td>\n",
              "      <td>16.600000</td>\n",
              "      <td>1.826885</td>\n",
              "      <td>1.000000</td>\n",
              "      <td>1.000000</td>\n",
              "      <td>160.002151</td>\n",
              "    </tr>\n",
              "    <tr>\n",
              "      <th>max</th>\n",
              "      <td>1000.000000</td>\n",
              "      <td>1000.000000</td>\n",
              "      <td>1000.000000</td>\n",
              "      <td>957.849053</td>\n",
              "      <td>909.090818</td>\n",
              "      <td>224.722562</td>\n",
              "      <td>475.687040</td>\n",
              "      <td>931.742250</td>\n",
              "      <td>93.177335</td>\n",
              "      <td>1000.000000</td>\n",
              "      <td>990.825688</td>\n",
              "      <td>1000.000000</td>\n",
              "      <td>20.00000</td>\n",
              "      <td>1000.000000</td>\n",
              "      <td>187.777811</td>\n",
              "      <td>23.000000</td>\n",
              "      <td>1.000000</td>\n",
              "      <td>1000.000000</td>\n",
              "    </tr>\n",
              "  </tbody>\n",
              "</table>\n",
              "</div>"
            ],
            "text/plain": [
              "              VAR2         VAR3  ...         VAR19         VAR20\n",
              "count  9733.000000  9063.000000  ...  10000.000000  10000.000000\n",
              "mean    917.904763     1.222283  ...      0.302500    161.013031\n",
              "std      50.534988    13.254280  ...      0.459364    122.318602\n",
              "min     725.882353     0.001333  ...      0.000000      0.000000\n",
              "25%     881.176471     0.083333  ...      0.000000    104.438038\n",
              "50%     925.882353     0.166667  ...      0.000000    117.569707\n",
              "75%     957.647059     0.555556  ...      1.000000    160.002151\n",
              "max    1000.000000  1000.000000  ...      1.000000   1000.000000\n",
              "\n",
              "[8 rows x 18 columns]"
            ]
          },
          "metadata": {
            "tags": []
          },
          "execution_count": 24
        }
      ]
    },
    {
      "cell_type": "code",
      "metadata": {
        "id": "YMnGtpKkSrEN",
        "colab_type": "code",
        "colab": {}
      },
      "source": [
        "n_train=df1.iloc[:34000,:]\n",
        "n_test=df1.iloc[34000:,:]"
      ],
      "execution_count": 0,
      "outputs": []
    },
    {
      "cell_type": "code",
      "metadata": {
        "id": "p4P5EzsNWVT0",
        "colab_type": "code",
        "outputId": "e2c73494-17df-4bb6-c63f-90ab897070a9",
        "colab": {
          "base_uri": "https://localhost:8080/",
          "height": 34
        }
      },
      "source": [
        "n_train.shape"
      ],
      "execution_count": 0,
      "outputs": [
        {
          "output_type": "execute_result",
          "data": {
            "text/plain": [
              "(34000, 18)"
            ]
          },
          "metadata": {
            "tags": []
          },
          "execution_count": 26
        }
      ]
    },
    {
      "cell_type": "code",
      "metadata": {
        "id": "9LsR9qBLXD1S",
        "colab_type": "code",
        "colab": {}
      },
      "source": [
        ""
      ],
      "execution_count": 0,
      "outputs": []
    },
    {
      "cell_type": "code",
      "metadata": {
        "id": "q9fJlRggYdPR",
        "colab_type": "code",
        "outputId": "82f3e5cf-6b49-421d-eca4-d1703f727ba3",
        "colab": {
          "base_uri": "https://localhost:8080/",
          "height": 204
        }
      },
      "source": [
        "dummies=pd.get_dummies(out)\n",
        "dummies.head()"
      ],
      "execution_count": 0,
      "outputs": [
        {
          "output_type": "execute_result",
          "data": {
            "text/html": [
              "<div>\n",
              "<style scoped>\n",
              "    .dataframe tbody tr th:only-of-type {\n",
              "        vertical-align: middle;\n",
              "    }\n",
              "\n",
              "    .dataframe tbody tr th {\n",
              "        vertical-align: top;\n",
              "    }\n",
              "\n",
              "    .dataframe thead th {\n",
              "        text-align: right;\n",
              "    }\n",
              "</style>\n",
              "<table border=\"1\" class=\"dataframe\">\n",
              "  <thead>\n",
              "    <tr style=\"text-align: right;\">\n",
              "      <th></th>\n",
              "      <th>VAR21_High</th>\n",
              "      <th>VAR21_Low</th>\n",
              "      <th>VAR21_Medium</th>\n",
              "    </tr>\n",
              "  </thead>\n",
              "  <tbody>\n",
              "    <tr>\n",
              "      <th>0</th>\n",
              "      <td>0</td>\n",
              "      <td>1</td>\n",
              "      <td>0</td>\n",
              "    </tr>\n",
              "    <tr>\n",
              "      <th>1</th>\n",
              "      <td>1</td>\n",
              "      <td>0</td>\n",
              "      <td>0</td>\n",
              "    </tr>\n",
              "    <tr>\n",
              "      <th>2</th>\n",
              "      <td>0</td>\n",
              "      <td>0</td>\n",
              "      <td>1</td>\n",
              "    </tr>\n",
              "    <tr>\n",
              "      <th>3</th>\n",
              "      <td>0</td>\n",
              "      <td>1</td>\n",
              "      <td>0</td>\n",
              "    </tr>\n",
              "    <tr>\n",
              "      <th>4</th>\n",
              "      <td>1</td>\n",
              "      <td>0</td>\n",
              "      <td>0</td>\n",
              "    </tr>\n",
              "  </tbody>\n",
              "</table>\n",
              "</div>"
            ],
            "text/plain": [
              "   VAR21_High  VAR21_Low  VAR21_Medium\n",
              "0           0          1             0\n",
              "1           1          0             0\n",
              "2           0          0             1\n",
              "3           0          1             0\n",
              "4           1          0             0"
            ]
          },
          "metadata": {
            "tags": []
          },
          "execution_count": 27
        }
      ]
    },
    {
      "cell_type": "code",
      "metadata": {
        "id": "PGbcOWAWb3UW",
        "colab_type": "code",
        "outputId": "287e764b-b062-4698-d20e-8150190e58f1",
        "colab": {
          "base_uri": "https://localhost:8080/",
          "height": 34
        }
      },
      "source": [
        "from sklearn.preprocessing import LabelEncoder\n",
        "labelencoder_X=LabelEncoder()\n",
        "y = labelencoder_X.fit_transform(out)\n",
        "y\n"
      ],
      "execution_count": 0,
      "outputs": [
        {
          "output_type": "execute_result",
          "data": {
            "text/plain": [
              "array([1, 0, 2, ..., 1, 1, 0])"
            ]
          },
          "metadata": {
            "tags": []
          },
          "execution_count": 28
        }
      ]
    },
    {
      "cell_type": "code",
      "metadata": {
        "id": "IAIF8eZkr14W",
        "colab_type": "code",
        "colab": {}
      },
      "source": [
        "from sklearn.model_selection import cross_val_score\n",
        "from sklearn.model_selection import train_test_split\n",
        "X_train, X_test, y_train, y_test = train_test_split(n_train, y, test_size = 0.20)"
      ],
      "execution_count": 0,
      "outputs": []
    },
    {
      "cell_type": "code",
      "metadata": {
        "id": "iB_KlDrvt3-n",
        "colab_type": "code",
        "colab": {}
      },
      "source": [
        ""
      ],
      "execution_count": 0,
      "outputs": []
    },
    {
      "cell_type": "code",
      "metadata": {
        "id": "3R9Sxi08uk99",
        "colab_type": "code",
        "colab": {}
      },
      "source": [
        "from imblearn.over_sampling import SMOTE\n",
        "sm = SMOTE(random_state = 33)"
      ],
      "execution_count": 0,
      "outputs": []
    },
    {
      "cell_type": "code",
      "metadata": {
        "id": "L5D0NjFkwJsS",
        "colab_type": "code",
        "colab": {}
      },
      "source": [
        "x_new, y_new = sm.fit_sample(X_train, y_train.ravel())"
      ],
      "execution_count": 0,
      "outputs": []
    },
    {
      "cell_type": "code",
      "metadata": {
        "id": "qrzUM_QLwRje",
        "colab_type": "code",
        "outputId": "5fac1908-2ec7-42e6-a549-f22cf4cdc3bb",
        "colab": {
          "base_uri": "https://localhost:8080/",
          "height": 34
        }
      },
      "source": [
        "x_new.shape"
      ],
      "execution_count": 0,
      "outputs": [
        {
          "output_type": "execute_result",
          "data": {
            "text/plain": [
              "(43446, 18)"
            ]
          },
          "metadata": {
            "tags": []
          },
          "execution_count": 32
        }
      ]
    },
    {
      "cell_type": "code",
      "metadata": {
        "id": "Ze_i8VJHwWSM",
        "colab_type": "code",
        "outputId": "93d6cccb-0874-4857-f320-d67c0f4c9900",
        "colab": {
          "base_uri": "https://localhost:8080/",
          "height": 34
        }
      },
      "source": [
        "from sklearn.naive_bayes import GaussianNB\n",
        "gnb = GaussianNB()\n",
        "gnb.fit(X_train,y_train)"
      ],
      "execution_count": 0,
      "outputs": [
        {
          "output_type": "execute_result",
          "data": {
            "text/plain": [
              "GaussianNB(priors=None, var_smoothing=1e-09)"
            ]
          },
          "metadata": {
            "tags": []
          },
          "execution_count": 44
        }
      ]
    },
    {
      "cell_type": "code",
      "metadata": {
        "id": "Fq7COtn7w1j_",
        "colab_type": "code",
        "outputId": "c94cc777-045b-4c28-f6ac-92b11e8b727e",
        "colab": {
          "base_uri": "https://localhost:8080/",
          "height": 34
        }
      },
      "source": [
        "gnb.score(X_test,y_test)"
      ],
      "execution_count": 0,
      "outputs": [
        {
          "output_type": "execute_result",
          "data": {
            "text/plain": [
              "0.5245588235294117"
            ]
          },
          "metadata": {
            "tags": []
          },
          "execution_count": 45
        }
      ]
    },
    {
      "cell_type": "code",
      "metadata": {
        "id": "rIxL3Gv16CSm",
        "colab_type": "code",
        "colab": {}
      },
      "source": [
        "output=gnb.predict(n_test)"
      ],
      "execution_count": 0,
      "outputs": []
    },
    {
      "cell_type": "code",
      "metadata": {
        "id": "5KOGNl_Ew7ro",
        "colab_type": "code",
        "colab": {}
      },
      "source": [
        "y=pd.DataFrame(output)"
      ],
      "execution_count": 0,
      "outputs": []
    },
    {
      "cell_type": "code",
      "metadata": {
        "id": "Uo5yqFtWw8M0",
        "colab_type": "code",
        "colab": {}
      },
      "source": [
        "for i in range(10000):\n",
        "\n",
        "  if(y.iloc[i,0]==1):\n",
        "    y.iloc[i,0]='Low'\n",
        "  if(y.iloc[i,0]==0):\n",
        "    y.iloc[i,0]='High'\n",
        "  if(y.iloc[i,0]==2):\n",
        "    y.iloc[i,0]='Medium'"
      ],
      "execution_count": 0,
      "outputs": []
    },
    {
      "cell_type": "code",
      "metadata": {
        "id": "CyvKhlkmylZX",
        "colab_type": "code",
        "outputId": "ed741ed7-5519-4a3d-c46c-90abf13a4017",
        "colab": {
          "base_uri": "https://localhost:8080/",
          "height": 85
        }
      },
      "source": [
        "y[0].value_counts()"
      ],
      "execution_count": 0,
      "outputs": [
        {
          "output_type": "execute_result",
          "data": {
            "text/plain": [
              "Medium    7221\n",
              "Low       2197\n",
              "High       582\n",
              "Name: 0, dtype: int64"
            ]
          },
          "metadata": {
            "tags": []
          },
          "execution_count": 49
        }
      ]
    },
    {
      "cell_type": "code",
      "metadata": {
        "id": "OdBDcABTzQNG",
        "colab_type": "code",
        "colab": {}
      },
      "source": [
        "#Writing the results for test data to a CSV file\n",
        "file = open(\"Insight _IITRoorkee_31.csv\", \"w\")\n",
        "for k in range(10000):\n",
        "   file.write(str(k+1) + \",\" + str(y.iloc[k,0]) + \"\\n\")\n",
        "file.close()"
      ],
      "execution_count": 0,
      "outputs": []
    },
    {
      "cell_type": "code",
      "metadata": {
        "id": "HX7gBofu0E_L",
        "colab_type": "code",
        "outputId": "802da432-9c99-489d-c09f-c1d42de4c416",
        "colab": {
          "base_uri": "https://localhost:8080/",
          "height": 34
        }
      },
      "source": [
        "cross_val_score(gnb,X_train,y_train)"
      ],
      "execution_count": 0,
      "outputs": [
        {
          "output_type": "execute_result",
          "data": {
            "text/plain": [
              "array([0.50672695, 0.50490791, 0.52112521])"
            ]
          },
          "metadata": {
            "tags": []
          },
          "execution_count": 51
        }
      ]
    },
    {
      "cell_type": "code",
      "metadata": {
        "id": "R094zKKV0knB",
        "colab_type": "code",
        "outputId": "dc0a059c-1fd6-4f21-e394-67b2028c4032",
        "colab": {
          "base_uri": "https://localhost:8080/",
          "height": 68
        }
      },
      "source": [
        "from sklearn.neighbors import KNeighborsClassifier\n",
        "neigh = KNeighborsClassifier(n_neighbors=20)\n",
        "neigh.fit(X_train, y_train) "
      ],
      "execution_count": 0,
      "outputs": [
        {
          "output_type": "execute_result",
          "data": {
            "text/plain": [
              "KNeighborsClassifier(algorithm='auto', leaf_size=30, metric='minkowski',\n",
              "                     metric_params=None, n_jobs=None, n_neighbors=20, p=2,\n",
              "                     weights='uniform')"
            ]
          },
          "metadata": {
            "tags": []
          },
          "execution_count": 146
        }
      ]
    },
    {
      "cell_type": "code",
      "metadata": {
        "id": "QyM-8GgzSw2B",
        "colab_type": "code",
        "outputId": "2ce833b0-db3b-4f9a-b012-4164eecaecc3",
        "colab": {
          "base_uri": "https://localhost:8080/",
          "height": 34
        }
      },
      "source": [
        "neigh.score(X_test,y_test)"
      ],
      "execution_count": 0,
      "outputs": [
        {
          "output_type": "execute_result",
          "data": {
            "text/plain": [
              "0.5441176470588235"
            ]
          },
          "metadata": {
            "tags": []
          },
          "execution_count": 147
        }
      ]
    },
    {
      "cell_type": "code",
      "metadata": {
        "id": "IKsuBpHUT5o4",
        "colab_type": "code",
        "colab": {}
      },
      "source": [
        "#cross_val_score(neigh,X_train,y_train)"
      ],
      "execution_count": 0,
      "outputs": []
    },
    {
      "cell_type": "code",
      "metadata": {
        "id": "ka6Ip0uAS2Il",
        "colab_type": "code",
        "colab": {}
      },
      "source": [
        "output=neigh.predict(n_test)"
      ],
      "execution_count": 0,
      "outputs": []
    },
    {
      "cell_type": "code",
      "metadata": {
        "id": "G3TNT0VfS6lh",
        "colab_type": "code",
        "colab": {}
      },
      "source": [
        "y=pd.DataFrame(output)"
      ],
      "execution_count": 0,
      "outputs": []
    },
    {
      "cell_type": "code",
      "metadata": {
        "id": "zG135DdHTuMR",
        "colab_type": "code",
        "colab": {}
      },
      "source": [
        "for i in range(10000):\n",
        "\n",
        "  if(y.iloc[i,0]==1):\n",
        "    y.iloc[i,0]='Low'\n",
        "  if(y.iloc[i,0]==0):\n",
        "    y.iloc[i,0]='High'\n",
        "  if(y.iloc[i,0]==2):\n",
        "    y.iloc[i,0]='Medium'"
      ],
      "execution_count": 0,
      "outputs": []
    },
    {
      "cell_type": "code",
      "metadata": {
        "id": "qT8vzbGYTxbd",
        "colab_type": "code",
        "outputId": "0958ee81-578c-4053-d7fe-53ba6b0cc496",
        "colab": {
          "base_uri": "https://localhost:8080/",
          "height": 85
        }
      },
      "source": [
        "y[0].value_counts()"
      ],
      "execution_count": 0,
      "outputs": [
        {
          "output_type": "execute_result",
          "data": {
            "text/plain": [
              "Medium    7350\n",
              "Low       2594\n",
              "High        56\n",
              "Name: 0, dtype: int64"
            ]
          },
          "metadata": {
            "tags": []
          },
          "execution_count": 152
        }
      ]
    },
    {
      "cell_type": "code",
      "metadata": {
        "id": "fV2gpQN-T0WT",
        "colab_type": "code",
        "colab": {}
      },
      "source": [
        "#Writing the results for test data to a CSV file\n",
        "file = open(\"Insight _IITRoorkee_33.csv\", \"w\")\n",
        "for k in range(10000):\n",
        "   file.write(str(k+1) + \",\" + str(y.iloc[k,0]) + \"\\n\")\n",
        "file.close()"
      ],
      "execution_count": 0,
      "outputs": []
    },
    {
      "cell_type": "code",
      "metadata": {
        "id": "BrHa3GK5rEN0",
        "colab_type": "code",
        "colab": {}
      },
      "source": [
        "from sklearn.linear_model import LogisticRegression\n",
        "from sklearn.neighbors import KNeighborsClassifier\n",
        "from sklearn.naive_bayes import GaussianNB \n",
        "from sklearn.ensemble import RandomForestClassifier\n",
        "from sklearn.model_selection import GridSearchCV\n",
        "from mlxtend.classifier import StackingClassifier\n",
        "\n",
        "# Initializing models\n",
        "\n",
        "clf1 = KNeighborsClassifier(n_neighbors=1)\n",
        "clf2 = RandomForestClassifier(random_state=1)\n",
        "clf3 = GaussianNB()\n",
        "lr = LogisticRegression()\n",
        "sclf = StackingClassifier(classifiers=[clf1, clf2, clf3], \n",
        "                          meta_classifier=lr)\n",
        "\n",
        "params = {'kneighborsclassifier__n_neighbors': [1, 5],\n",
        "          'randomforestclassifier__n_estimators': [10, 50],\n",
        "          'meta_classifier__C': [0.1, 10.0]}\n",
        "\n",
        "grid = GridSearchCV(estimator=sclf, \n",
        "                    param_grid=params, \n",
        "                    cv=5,\n",
        "                    refit=True)\n",
        "grid.fit(X_train, y_train)\n",
        "\n",
        "cv_keys = ('mean_test_score', 'std_test_score', 'params')\n",
        "\n",
        "for r, _ in enumerate(grid.cv_results_['mean_test_score']):\n",
        "    print(\"%0.3f +/- %0.2f %r\"\n",
        "          % (grid.cv_results_[cv_keys[0]][r],\n",
        "             grid.cv_results_[cv_keys[1]][r] / 2.0,\n",
        "             grid.cv_results_[cv_keys[2]][r]))\n",
        "\n",
        "print('Best parameters: %s' % grid.best_params_)\n",
        "print('Accuracy: %.2f' % grid.best_score_)"
      ],
      "execution_count": 0,
      "outputs": []
    },
    {
      "cell_type": "code",
      "metadata": {
        "id": "w86DV5WbVSNS",
        "colab_type": "code",
        "colab": {}
      },
      "source": [
        ""
      ],
      "execution_count": 0,
      "outputs": []
    }
  ]
}